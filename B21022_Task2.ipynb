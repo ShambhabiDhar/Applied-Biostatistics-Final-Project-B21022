{
 "cells": [
  {
   "cell_type": "code",
   "execution_count": 2,
   "id": "006f8c87",
   "metadata": {},
   "outputs": [],
   "source": [
    "import pandas as pd\n",
    "from scipy.stats import f_oneway\n",
    "from statsmodels.stats.multicomp import pairwise_tukeyhsd\n",
    "import matplotlib.pyplot as plt\n",
    "import warnings\n",
    "warnings.simplefilter(action='ignore', category=FutureWarning)"
   ]
  },
  {
   "cell_type": "code",
   "execution_count": 3,
   "id": "0833b766",
   "metadata": {},
   "outputs": [
    {
     "name": "stderr",
     "output_type": "stream",
     "text": [
      "C:\\Users\\Acer\\anaconda3\\lib\\site-packages\\openpyxl\\styles\\stylesheet.py:226: UserWarning: Workbook contains no default style, apply openpyxl's default\n",
      "  warn(\"Workbook contains no default style, apply openpyxl's default\")\n"
     ]
    }
   ],
   "source": [
    "# Reading the data from the Excel sheet\n",
    "data = pd.read_excel('D:/sem4/applied biostatics/project/B21022.xlsx' , 'Task 2')\n",
    "# Extracting the viral load values from each column\n",
    "group1 = data['S01']\n",
    "group2 = data['S02']\n",
    "group3 = data['S03']\n",
    "group4 = data['S04']\n",
    "group5 = data['S05']\n",
    "group6 = data['S06']\n",
    "group7 = data['S07']\n",
    "group8 = data['S08']\n",
    "group9 = data['S09']\n"
   ]
  },
  {
   "cell_type": "code",
   "execution_count": 4,
   "id": "032d68fe",
   "metadata": {},
   "outputs": [
    {
     "name": "stdout",
     "output_type": "stream",
     "text": [
      "There is a significant difference between at least two groups.\n",
      "  Multiple Comparison of Means - Tukey HSD, FWER=0.05  \n",
      "=======================================================\n",
      "group1 group2 meandiff p-adj    lower    upper   reject\n",
      "-------------------------------------------------------\n",
      "   S01    S02    -33.4    0.9 -148.4413  81.6413  False\n",
      "   S01    S03     -3.6    0.9 -118.6413 111.4413  False\n",
      "   S01    S04    172.8  0.001   57.7587 287.8413   True\n",
      "   S01    S05 122.3333  0.028     7.292 237.3746   True\n",
      "   S01    S06 131.4667 0.0128   16.4254  246.508   True\n",
      "   S01    S07 335.2667  0.001  220.2254  450.308   True\n",
      "   S01    S08    329.6  0.001  214.5587 444.6413   True\n",
      "   S01    S09    401.0  0.001  285.9587 516.0413   True\n",
      "   S02    S03     29.8    0.9  -85.2413 144.8413  False\n",
      "   S02    S04    206.2  0.001   91.1587 321.2413   True\n",
      "   S02    S05 155.7333 0.0012    40.692 270.7746   True\n",
      "   S02    S06 164.8667  0.001   49.8254  279.908   True\n",
      "   S02    S07 368.6667  0.001  253.6254  483.708   True\n",
      "   S02    S08    363.0  0.001  247.9587 478.0413   True\n",
      "   S02    S09    434.4  0.001  319.3587 549.4413   True\n",
      "   S03    S04    176.4  0.001   61.3587 291.4413   True\n",
      "   S03    S05 125.9333 0.0207    10.892 240.9746   True\n",
      "   S03    S06 135.0667 0.0092   20.0254  250.108   True\n",
      "   S03    S07 338.8667  0.001  223.8254  453.908   True\n",
      "   S03    S08    333.2  0.001  218.1587 448.2413   True\n",
      "   S03    S09    404.6  0.001  289.5587 519.6413   True\n",
      "   S04    S05 -50.4667    0.9  -165.508  64.5746  False\n",
      "   S04    S06 -41.3333    0.9 -156.3746   73.708  False\n",
      "   S04    S07 162.4667  0.001   47.4254  277.508   True\n",
      "   S04    S08    156.8 0.0011   41.7587 271.8413   True\n",
      "   S04    S09    228.2  0.001  113.1587 343.2413   True\n",
      "   S05    S06   9.1333    0.9  -105.908 124.1746  False\n",
      "   S05    S07 212.9333  0.001    97.892 327.9746   True\n",
      "   S05    S08 207.2667  0.001   92.2254  322.308   True\n",
      "   S05    S09 278.6667  0.001  163.6254  393.708   True\n",
      "   S06    S07    203.8  0.001   88.7587 318.8413   True\n",
      "   S06    S08 198.1333  0.001    83.092 313.1746   True\n",
      "   S06    S09 269.5333  0.001   154.492 384.5746   True\n",
      "   S07    S08  -5.6667    0.9  -120.708 109.3746  False\n",
      "   S07    S09  65.7333 0.6567   -49.308 180.7746  False\n",
      "   S08    S09     71.4 0.5643  -43.6413 186.4413  False\n",
      "-------------------------------------------------------\n"
     ]
    },
    {
     "data": {
      "image/png": "[encoded data removed]",
      "text/plain": [
       "<Figure size 720x360 with 1 Axes>"
      ]
     },
     "metadata": {
      "needs_background": "light"
     },
     "output_type": "display_data"
    }
   ],
   "source": [
    "# one-way ANOVA test\n",
    "f_statistic, p_value = f_oneway(group1, group2, group3, group4, group5, group6, group7, group8, group9)\n",
    "\n",
    "# Interpreting the results\n",
    "alpha = 0.05\n",
    "if p_value < alpha:\n",
    "    print(\"There is a significant difference between at least two groups.\")\n",
    "else:\n",
    "    print(\"There is no significant difference between the groups.\")\n",
    "\n",
    "# Performing Tukey's HSD test\n",
    "groups = ['S01', 'S02', 'S03', 'S04', 'S05', 'S06', 'S07', 'S08', 'S09']\n",
    "all_viral_loads = pd.concat([group1, group2, group3, group4, group5, group6, group7, group8, group9])\n",
    "labels = [group for group in groups for _ in range(len(data))]\n",
    "tukey_results = pairwise_tukeyhsd(all_viral_loads, labels, alpha=0.05)\n",
    "\n",
    "# Printing the Tukey's HSD results\n",
    "print(tukey_results.summary())\n",
    "\n",
    "# Plotting the mean viral load for each sample group\n",
    "mean_viral_loads = data.mean()\n",
    "fig, ax = plt.subplots(figsize=(10, 5))\n",
    "ax.bar(mean_viral_loads.index, mean_viral_loads.values)\n",
    "ax.set_title('Mean Viral Load by Drug and Doses per Day')\n",
    "ax.set_xlabel('Drug and Doses per Day')\n",
    "ax.set_ylabel('Mean Viral Load')\n",
    "plt.show()"
   ]
  },
  {
   "cell_type": "code",
   "execution_count": 5,
   "id": "6d3199fa",
   "metadata": {},
   "outputs": [
    {
     "data": {
      "image/png": "[encoded data removed]",
      "text/plain": [
       "<Figure size 720x360 with 1 Axes>"
      ]
     },
     "metadata": {
      "needs_background": "light"
     },
     "output_type": "display_data"
    }
   ],
   "source": [
    "import seaborn as sns\n",
    "fig, ax = plt.subplots(figsize=(10, 5))\n",
    "sns.boxplot(data=data)\n",
    "ax.set_title('Box Plot of Viral Load by Sample Group')\n",
    "ax.set_xlabel('Sample Group')\n",
    "ax.set_ylabel('Viral Load')\n",
    "plt.show()"
   ]
  },
  {
   "cell_type": "code",
   "execution_count": 6,
   "id": "6bb04e04",
   "metadata": {},
   "outputs": [
    {
     "data": {
      "image/png": "[encoded data removed]",
      "text/plain": [
       "<Figure size 720x360 with 1 Axes>"
      ]
     },
     "metadata": {
      "needs_background": "light"
     },
     "output_type": "display_data"
    }
   ],
   "source": [
    "fig, ax = plt.subplots(figsize=(10, 5))\n",
    "sns.violinplot(data=data)\n",
    "ax.set_title('Violin Plot of Viral Load by Sample Group')\n",
    "ax.set_xlabel('Sample Group')\n",
    "ax.set_ylabel('Viral Load')\n",
    "plt.show()"
   ]
  },
  {
   "cell_type": "code",
   "execution_count": 9,
   "id": "cfa12667",
   "metadata": {},
   "outputs": [
    {
     "data": {
      "image/png": "[encoded data removed]",
      "text/plain": [
       "<Figure size 720x360 with 1 Axes>"
      ]
     },
     "metadata": {
      "needs_background": "light"
     },
     "output_type": "display_data"
    }
   ],
   "source": [
    "fig, ax = plt.subplots(figsize=(10, 5))\n",
    "sns.pointplot(data=data, ci='sd')\n",
    "ax.set_title('Mean Viral Load with Confidence Intervals by Sample Group')\n",
    "ax.set_xlabel('Sample Group')\n",
    "ax.set_ylabel('Mean Viral Load')\n",
    "plt.show()"
   ]
  },
  {
   "cell_type": "code",
   "execution_count": 7,
   "id": "aae6b354",
   "metadata": {},
   "outputs": [
    {
     "name": "stdout",
     "output_type": "stream",
     "text": [
      "There is no significant difference between Drug A and Drug B in inhibiting viral load.\n"
     ]
    }
   ],
   "source": [
    "from scipy.stats import ttest_ind\n",
    "\n",
    "# Comparing viral load between Drug A (S01, S04, S07) and Drug B (S02, S05, S08)\n",
    "t_statistic, p_value = ttest_ind(group1.append(group4).append(group7), group2.append(group5).append(group8))\n",
    "if p_value < alpha:\n",
    "    print(\"There is a significant difference between Drug A and Drug B in inhibiting viral load.\")\n",
    "else:\n",
    "    print(\"There is no significant difference between Drug A and Drug B in inhibiting viral load.\")"
   ]
  },
  {
   "cell_type": "code",
   "execution_count": 8,
   "id": "83d119a5",
   "metadata": {},
   "outputs": [
    {
     "name": "stdout",
     "output_type": "stream",
     "text": [
      "Cohen's d: 0.3157026417009767\n"
     ]
    }
   ],
   "source": [
    "import numpy as np\n",
    "mean_difference = np.abs(np.mean(group1) - np.mean(group2))\n",
    "pooled_std = np.sqrt((np.std(group1) ** 2 + np.std(group2) ** 2) / 2)\n",
    "cohen_d = mean_difference / pooled_std\n",
    "print(\"Cohen's d:\", cohen_d)"
   ]
  },
  {
   "cell_type": "code",
   "execution_count": 15,
   "id": "903bce08",
   "metadata": {},
   "outputs": [
    {
     "data": {
      "image/png": "[encoded data removed]",
      "text/plain": [
       "<Figure size 720x432 with 1 Axes>"
      ]
     },
     "metadata": {
      "needs_background": "light"
     },
     "output_type": "display_data"
    }
   ],
   "source": [
    "import matplotlib.pyplot as plt\n",
    "import numpy as np\n",
    "\n",
    "# Calculating the mean viral load for each drug and intake frequency combination\n",
    "mean_viral_loads = []\n",
    "drugs = ['A', 'B', 'C']\n",
    "intake_frequencies = ['One', 'Two', 'Three']\n",
    "\n",
    "for drug in drugs:\n",
    "    for intake_frequency in intake_frequencies:\n",
    "        sample_group = 'S0' + str(drugs.index(drug) * 3 + intake_frequencies.index(intake_frequency) + 1)\n",
    "        mean_viral_load = np.mean(data[sample_group])\n",
    "        mean_viral_loads.append(mean_viral_load)\n",
    "\n",
    "# Reshaping the mean viral load array for plotting\n",
    "mean_viral_loads = np.array(mean_viral_loads).reshape((len(drugs),len(intake_frequencies)))\n",
    "\n",
    "# Setting up the bar plot\n",
    "x = np.arange(len(intake_frequencies))\n",
    "width = 0.2\n",
    "\n",
    "# Plotting the grouped bars\n",
    "fig, ax = plt.subplots(figsize=(10, 6))\n",
    "for i, drug in enumerate(drugs):\n",
    "    ax.bar(x + (i * width), mean_viral_loads[i], width, label='Drug ' + drug)\n",
    "\n",
    "# Adding labels, title, and legend\n",
    "ax.set_xlabel('Intake Frequency')\n",
    "ax.set_ylabel('Mean Viral Load')\n",
    "ax.set_title('Mean Viral Load by Drug and Intake Frequency')\n",
    "ax.set_xticks(x + width)\n",
    "ax.set_xticklabels(intake_frequencies)\n",
    "ax.legend(title='Drug')\n",
    "plt.tight_layout()\n",
    "plt.show()"
   ]
  },
  {
   "cell_type": "code",
   "execution_count": 10,
   "id": "d3a6a122",
   "metadata": {},
   "outputs": [
    {
     "name": "stdout",
     "output_type": "stream",
     "text": [
      "Requirement already satisfied: prettytable in c:\\users\\acer\\anaconda3\\lib\\site-packages (3.7.0)\n",
      "Requirement already satisfied: wcwidth in c:\\users\\acer\\anaconda3\\lib\\site-packages (from prettytable) (0.2.5)\n"
     ]
    }
   ],
   "source": [
    "#installing prettytable\n",
    "!pip install prettytable"
   ]
  },
  {
   "cell_type": "code",
   "execution_count": 13,
   "id": "96eb1999",
   "metadata": {
    "scrolled": true
   },
   "outputs": [
    {
     "name": "stdout",
     "output_type": "stream",
     "text": [
      "Summary Statistics:\n",
      "+--------------+------+------------------+--------------------+--------------------+-------------+\n",
      "| Sample_Group | Dose | Intake_Frequency |        Mean        | Standard_Deviation | Sample_Size |\n",
      "+--------------+------+------------------+--------------------+--------------------+-------------+\n",
      "|     S01      |  A   |       One        | 835.0666666666667  | 89.35120645653362  |     15.0    |\n",
      "|     S02      |  B   |       One        | 801.6666666666666  | 126.49430629008376 |     15.0    |\n",
      "|     S03      |  C   |       One        | 831.4666666666667  | 109.48376700723828 |     15.0    |\n",
      "|     S04      |  A   |       Two        | 1007.8666666666667 | 68.35189062769919  |     15.0    |\n",
      "|     S05      |  B   |       Two        |       957.4        | 95.34508752046807  |     15.0    |\n",
      "|     S06      |  C   |       Two        | 966.5333333333333  | 107.48678767090178 |     15.0    |\n",
      "|     S07      |  A   |      Three       | 1170.3333333333333 |  90.3292917739365  |     15.0    |\n",
      "|     S08      |  B   |      Three       | 1164.6666666666667 | 115.82910235506857 |     15.0    |\n",
      "|     S09      |  C   |      Three       | 1236.0666666666666 | 82.49715723817975  |     15.0    |\n",
      "+--------------+------+------------------+--------------------+--------------------+-------------+\n"
     ]
    }
   ],
   "source": [
    "import pandas as pd\n",
    "from prettytable import PrettyTable\n",
    "\n",
    "# Create a dictionary to map sample group names to dose names and intake frequencies\n",
    "sample_group_mapping = {\n",
    "    'S01': {'Dose': 'A', 'Intake_Frequency': 'One'},\n",
    "    'S02': {'Dose': 'B', 'Intake_Frequency': 'One'},\n",
    "    'S03': {'Dose': 'C', 'Intake_Frequency': 'One'},\n",
    "    'S04': {'Dose': 'A', 'Intake_Frequency': 'Two'},\n",
    "    'S05': {'Dose': 'B', 'Intake_Frequency': 'Two'},\n",
    "    'S06': {'Dose': 'C', 'Intake_Frequency': 'Two'},\n",
    "    'S07': {'Dose': 'A', 'Intake_Frequency': 'Three'},\n",
    "    'S08': {'Dose': 'B', 'Intake_Frequency': 'Three'},\n",
    "    'S09': {'Dose': 'C', 'Intake_Frequency': 'Three'}\n",
    "}\n",
    "\n",
    "# Calculate mean, standard deviation, and sample size for each sample group\n",
    "summary_data = pd.DataFrame()\n",
    "for sample_group in data.columns:\n",
    "    mean = data[sample_group].mean()\n",
    "    std_dev = data[sample_group].std()\n",
    "    sample_size = len(data[sample_group])\n",
    "    dose = sample_group_mapping[sample_group]['Dose']\n",
    "    intake_frequency = sample_group_mapping[sample_group]['Intake_Frequency']\n",
    "    summary_data = summary_data.append({\n",
    "        'Sample_Group': sample_group,\n",
    "        'Dose': dose,\n",
    "        'Intake_Frequency': intake_frequency,\n",
    "        'Mean': mean,\n",
    "        'Standard_Deviation': std_dev,\n",
    "        'Sample_Size': sample_size\n",
    "    }, ignore_index=True)\n",
    "    \n",
    "# Create the summary statistics table\n",
    "summary_table = PrettyTable()\n",
    "summary_table.field_names = ['Sample_Group', 'Dose', 'Intake_Frequency','Mean', 'Standard_Deviation', 'Sample_Size']\n",
    "for row in summary_data.itertuples(index=False):\n",
    "    summary_table.add_row(row)\n",
    "\n",
    "# Display the summary statistics table\n",
    "print(\"Summary Statistics:\")\n",
    "print(summary_table)\n"
   ]
  },
  {
   "cell_type": "code",
   "execution_count": 14,
   "id": "a16e74f8",
   "metadata": {},
   "outputs": [
    {
     "name": "stdout",
     "output_type": "stream",
     "text": [
      "\n",
      "Pairwise T-Tests:\n",
      "+--------+-------+-------+--------+-------+-------+---------------------+------------------------+\n",
      "| Group1 | Dose1 | Freq1 | Group2 | Dose2 | Freq2 | T_Statistic         | P_Value                |\n",
      "+--------+-------+-------+--------+-------+-------+---------------------+------------------------+\n",
      "| S01    | A     | One   | S02    | B     | One   | 0.835270678186914   | 0.41063619887583147    |\n",
      "| S01    | A     | One   | S03    | C     | One   | 0.09866326276011177 | 0.9221085966831633     |\n",
      "| S01    | A     | One   | S04    | A     | Two   | -5.949050710717532  | 2.0991044681337944e-06 |\n",
      "| S01    | A     | One   | S05    | B     | Two   | -3.625923877922334  | 0.0011344589132846828  |\n",
      "| S01    | A     | One   | S06    | C     | Two   | -3.6427705222785107 | 0.001085357403749502   |\n",
      "| S01    | A     | One   | S07    | A     | Three | -10.219828937044038 | 5.942559261839753e-11  |\n",
      "| S01    | A     | One   | S08    | B     | Three | -8.726211855387541  | 1.780215893927293e-09  |\n",
      "| S01    | A     | One   | S09    | C     | Three | -12.770692413106488 | 3.3829732259150916e-13 |\n",
      "| S02    | B     | One   | S03    | C     | One   | -0.6898899261310174 | 0.4959421164286606     |\n",
      "| S02    | B     | One   | S04    | A     | Two   | -5.554369135737531  | 6.110293048959636e-06  |\n",
      "| S02    | B     | One   | S05    | B     | Two   | -3.8077106417771502 | 0.0007019788123136649  |\n",
      "| S02    | B     | One   | S06    | C     | Two   | -3.8466655988061014 | 0.0006329293925833884  |\n",
      "| S02    | B     | One   | S07    | A     | Three | -9.186060995965414  | 6.058783196021892e-10  |\n",
      "| S02    | B     | One   | S08    | B     | Three | -8.196938152905897  | 6.371255768134509e-09  |\n",
      "| S02    | B     | One   | S09    | C     | Three | -11.140514903792283 | 8.421885231843345e-12  |\n",
      "| S03    | C     | One   | S04    | A     | Two   | -5.2932690243231235 | 1.2444881215746578e-05 |\n",
      "| S03    | C     | One   | S05    | B     | Two   | -3.3595259949942444 | 0.002266846443275985   |\n",
      "| S03    | C     | One   | S06    | C     | Two   | -3.409491529747493  | 0.0019931134206586454  |\n",
      "| S03    | C     | One   | S07    | A     | Three | -9.246539816877233  | 5.268953279543267e-10  |\n",
      "| S03    | C     | One   | S08    | B     | Three | -8.096689165152357  | 8.145306818683346e-09  |\n",
      "| S03    | C     | One   | S09    | C     | Three | -11.430875736565584 | 4.645926964395509e-12  |\n",
      "| S04    | A     | Two   | S05    | B     | Two   | 1.6660919050282847  | 0.1068454269005213     |\n",
      "| S04    | A     | Two   | S06    | C     | Two   | 1.2567488062031342  | 0.21922811783767399    |\n",
      "| S04    | A     | Two   | S07    | A     | Three | -5.554865176143489  | 6.102058412352527e-06  |\n",
      "| S04    | A     | Two   | S08    | B     | Three | -4.5153567474852006 | 0.0001042045407763848  |\n",
      "| S04    | A     | Two   | S09    | C     | Three | -8.2495956791776    | 5.60294441912632e-09   |\n",
      "| S05    | B     | Two   | S06    | C     | Two   | -0.2461937427101593 | 0.8073281466237519     |\n",
      "| S05    | B     | Two   | S07    | A     | Three | -6.279049306032996  | 8.666114443874442e-07  |\n",
      "| S05    | B     | Two   | S08    | B     | Three | -5.3507621196298985 | 1.0638203014926822e-05 |\n",
      "| S05    | B     | Two   | S09    | C     | Three | -8.560129806266595  | 2.6455211669627593e-09 |\n",
      "| S06    | C     | Two   | S07    | A     | Three | -5.621804725790053  | 5.0873391593690716e-06 |\n",
      "| S06    | C     | Two   | S08    | B     | Three | -4.856190628065189  | 4.109370448735146e-05  |\n",
      "| S06    | C     | Two   | S09    | C     | Three | -7.704267401605672  | 2.157421416268622e-08  |\n",
      "| S07    | A     | Three | S08    | B     | Three | 0.14941363298918126 | 0.8822982688978322     |\n",
      "| S07    | A     | Three | S09    | C     | Three | -2.0810886255974035 | 0.04668902779567866    |\n",
      "| S08    | B     | Three | S09    | C     | Three | -1.944598962575364  | 0.061930764107910014   |\n",
      "+--------+-------+-------+--------+-------+-------+---------------------+------------------------+\n"
     ]
    }
   ],
   "source": [
    "# Calculate pairwise t-tests between sample groups\n",
    "ttest_data = pd.DataFrame()\n",
    "for i in range(len(data.columns)):\n",
    "    for j in range(i+1, len(data.columns)):\n",
    "        sample_group_1 = data.columns[i]\n",
    "        sample_group_2 = data.columns[j]\n",
    "        t_statistic, p_value = ttest_ind(data[sample_group_1], data[sample_group_2])\n",
    "        dose_1 = sample_group_mapping[sample_group_1]['Dose']\n",
    "        intake_frequency_1 = sample_group_mapping[sample_group_1]['Intake_Frequency']\n",
    "        dose_2 = sample_group_mapping[sample_group_2]['Dose']\n",
    "        intake_frequency_2 = sample_group_mapping[sample_group_2]['Intake_Frequency']\n",
    "        ttest_data = ttest_data.append({\n",
    "            'Sample_Group_1': sample_group_1,\n",
    "            'Dose_1': dose_1,\n",
    "            'Intake_Frequency_1': intake_frequency_1,\n",
    "            'Sample_Group_2': sample_group_2,\n",
    "            'Dose_2': dose_2,\n",
    "            'Intake_Frequency_2': intake_frequency_2,\n",
    "            'T_Statistic': t_statistic,\n",
    "            'P_Value': p_value\n",
    "            }, ignore_index=True)\n",
    "\n",
    "ttest_table = PrettyTable()\n",
    "ttest_table.field_names = ['Group1', 'Dose1', 'Freq1', 'Group2', 'Dose2', 'Freq2', 'T_Statistic', 'P_Value']\n",
    "for row in ttest_data.itertuples(index=False):\n",
    "    ttest_table.add_row(row)\n",
    "\n",
    "# Set the table attributes for better aesthetics\n",
    "ttest_table.align = 'l'\n",
    "ttest_table.border = True\n",
    "ttest_table.header = True\n",
    "\n",
    "# Set the table max width to fit within console window\n",
    "table_width = min(30, len(ttest_table.get_string()))\n",
    "ttest_table.max_width = table_width\n",
    "\n",
    "# Display the pairwise t-tests table\n",
    "print(\"\\nPairwise T-Tests:\")\n",
    "print(ttest_table)"
   ]
  },
  {
   "cell_type": "code",
   "execution_count": 15,
   "id": "92b457da",
   "metadata": {},
   "outputs": [
    {
     "name": "stdout",
     "output_type": "stream",
     "text": [
      "ANOVA is applicable. There are significant differences among the groups.\n"
     ]
    }
   ],
   "source": [
    "from scipy.stats import f_oneway\n",
    "# Convert the dataframe to a list of arrays\n",
    "data_arrays = [data[column].values for column in data.columns]\n",
    "\n",
    "# Perform one-way ANOVA test\n",
    "f_statistic, p_value = f_oneway(*data_arrays)\n",
    "\n",
    "# Check the p-value\n",
    "if p_value < 0.05:\n",
    "    print(\"ANOVA is applicable. There are significant differences among the groups.\")\n",
    "else:\n",
    "    print(\"ANOVA is not applicable. There are no significant differences among the groups.\")"
   ]
  },
  {
   "cell_type": "code",
   "execution_count": 16,
   "id": "649c302a",
   "metadata": {},
   "outputs": [
    {
     "name": "stdout",
     "output_type": "stream",
     "text": [
      "ANOVA Results:\n",
      "                       sum_sq     df          F        PR(>F)\n",
      "C(Sample_Group)  3.145534e+06    8.0  39.464422  8.136908e-31\n",
      "Residual         1.255363e+06  126.0        NaN           NaN\n"
     ]
    }
   ],
   "source": [
    "import statsmodels.api as sm\n",
    "from statsmodels.formula.api import ols\n",
    "\n",
    "# Convert the data to a long format for ANOVA analysis\n",
    "long_data = data.melt(var_name='Sample_Group', value_name='Viral_Load')\n",
    "\n",
    "# Create the ANOVA model\n",
    "model = ols('Viral_Load ~ C(Sample_Group)', data=long_data).fit()\n",
    "\n",
    "# Perform ANOVA analysis\n",
    "anova_table = sm.stats.anova_lm(model, typ=2)\n",
    "\n",
    "# Display the ANOVA table\n",
    "print(\"ANOVA Results:\")\n",
    "print(anova_table)"
   ]
  },
  {
   "cell_type": "markdown",
   "id": "3f9d0a6b",
   "metadata": {},
   "source": [
    "\n",
    "The ANOVA results indicate that there is a significant difference among the sample groups. The\n",
    "p-value for the C(Sample_Group) effect is very small (8.136908e-31), which is less than the typical\n",
    "significance level of 0.05. Therefore, we can reject the null hypothesis and conclude that there are\n",
    "significant differences in the mean viral load among the different sample groups.\n",
    "The ANOVA table also provides information about the sum of squares, degrees of freedom, and\n",
    "F-statistic for the C(Sample_Group) effect. The sum_sq column represents the sum of squares,\n",
    "the df column represents the degrees of freedom, the F column represents the F-statistic, and the\n",
    "PR(>F) column represents the p-value.\n",
    "The Residual row in the ANOVA table represents the sum of squares and degrees of freedom for\n",
    "the residual (unexplained) variation in the data.\n",
    "Overall, the ANOVA analysis indicates that there are significant differences in the mean viral load\n",
    "across the different sample groups."
   ]
  },
  {
   "cell_type": "code",
   "execution_count": 17,
   "id": "6ab1c366",
   "metadata": {},
   "outputs": [
    {
     "name": "stdout",
     "output_type": "stream",
     "text": [
      "Tukey's HSD Post Hoc Test:\n",
      "  Multiple Comparison of Means - Tukey HSD, FWER=0.05  \n",
      "=======================================================\n",
      "group1 group2 meandiff p-adj    lower    upper   reject\n",
      "-------------------------------------------------------\n",
      "   S01    S02    -33.4    0.9 -148.4413  81.6413  False\n",
      "   S01    S03     -3.6    0.9 -118.6413 111.4413  False\n",
      "   S01    S04    172.8  0.001   57.7587 287.8413   True\n",
      "   S01    S05 122.3333  0.028     7.292 237.3746   True\n",
      "   S01    S06 131.4667 0.0128   16.4254  246.508   True\n",
      "   S01    S07 335.2667  0.001  220.2254  450.308   True\n",
      "   S01    S08    329.6  0.001  214.5587 444.6413   True\n",
      "   S01    S09    401.0  0.001  285.9587 516.0413   True\n",
      "   S02    S03     29.8    0.9  -85.2413 144.8413  False\n",
      "   S02    S04    206.2  0.001   91.1587 321.2413   True\n",
      "   S02    S05 155.7333 0.0012    40.692 270.7746   True\n",
      "   S02    S06 164.8667  0.001   49.8254  279.908   True\n",
      "   S02    S07 368.6667  0.001  253.6254  483.708   True\n",
      "   S02    S08    363.0  0.001  247.9587 478.0413   True\n",
      "   S02    S09    434.4  0.001  319.3587 549.4413   True\n",
      "   S03    S04    176.4  0.001   61.3587 291.4413   True\n",
      "   S03    S05 125.9333 0.0207    10.892 240.9746   True\n",
      "   S03    S06 135.0667 0.0092   20.0254  250.108   True\n",
      "   S03    S07 338.8667  0.001  223.8254  453.908   True\n",
      "   S03    S08    333.2  0.001  218.1587 448.2413   True\n",
      "   S03    S09    404.6  0.001  289.5587 519.6413   True\n",
      "   S04    S05 -50.4667    0.9  -165.508  64.5746  False\n",
      "   S04    S06 -41.3333    0.9 -156.3746   73.708  False\n",
      "   S04    S07 162.4667  0.001   47.4254  277.508   True\n",
      "   S04    S08    156.8 0.0011   41.7587 271.8413   True\n",
      "   S04    S09    228.2  0.001  113.1587 343.2413   True\n",
      "   S05    S06   9.1333    0.9  -105.908 124.1746  False\n",
      "   S05    S07 212.9333  0.001    97.892 327.9746   True\n",
      "   S05    S08 207.2667  0.001   92.2254  322.308   True\n",
      "   S05    S09 278.6667  0.001  163.6254  393.708   True\n",
      "   S06    S07    203.8  0.001   88.7587 318.8413   True\n",
      "   S06    S08 198.1333  0.001    83.092 313.1746   True\n",
      "   S06    S09 269.5333  0.001   154.492 384.5746   True\n",
      "   S07    S08  -5.6667    0.9  -120.708 109.3746  False\n",
      "   S07    S09  65.7333 0.6567   -49.308 180.7746  False\n",
      "   S08    S09     71.4 0.5643  -43.6413 186.4413  False\n",
      "-------------------------------------------------------\n"
     ]
    }
   ],
   "source": [
    "from statsmodels.stats.multicomp import pairwise_tukeyhsd\n",
    "\n",
    "# Perform Tukey's HSD post hoc test\n",
    "posthoc = pairwise_tukeyhsd(long_data['Viral_Load'], long_data['Sample_Group'])\n",
    "\n",
    "# Display the post hoc test results\n",
    "print(\"Tukey's HSD Post Hoc Test:\")\n",
    "print(posthoc)\n"
   ]
  },
  {
   "cell_type": "markdown",
   "id": "01ba3f78",
   "metadata": {},
   "source": [
    "The Tukey’s HSD post hoc test results indicate the significant differences between pairs of sample\n",
    "groups. The reject column specifies whether the null hypothesis of equal means is rejected for each\n",
    "pair.\n",
    "Based on the post hoc test results:\n",
    "\n",
    "Sample Group S01 (Drug A, Intake frequency 1) shows significant differences in mean viral load\n",
    "compared to Sample Groups S04, S05, S06, S07, S08, and S09.\n",
    "\n",
    "Sample Group S02 (Drug B, Intake frequency 1) shows significant differences in mean viral load\n",
    "compared to Sample Groups S03, S04, S05, S06, S07, S08, and S09.\n",
    "\n",
    "Sample Group S03 (Drug C, Intake frequency 1) shows significant differences in mean viral load\n",
    "compared to Sample Groups S04, S05, S06, S07, S08, and S09.\n",
    "\n",
    "Sample Group S04 (Drug A, Intake frequency 2) shows significant differences in mean viral load\n",
    "compared to Sample Groups S07, S08, and S09.\n",
    "\n",
    "Sample Group S05 (Drug B, Intake frequency 2) shows significant differences in mean viral load\n",
    "compared to Sample Groups S06, S07 and S08.\n",
    "\n",
    "Sample Group S06 (Drug C, Intake frequency 2) shows significant differences in mean viral load\n",
    "compared to Sample Groups S07, S08, and S09.\n",
    "\n",
    "Sample Group S07 (Drug A, Intake frequency 3) shows significant differences in mean viral load\n",
    "compared to Sample Group S09.\n",
    "\n",
    "Sample Group S08 (Drug B, Intake frequency 3) shows significant differences in mean viral load\n",
    "compared to Sample Group S09.\n",
    "\n",
    "These results help identify specific pairs of sample groups that have significantly different mean\n",
    "viral loads. The meandiff column provides the difference in means, and the p-adj column provides\n",
    "the adjusted p-value.\n",
    "\n",
    "Please note that the interpretation of the post hoc test results should consider the specific research\n",
    "question, significance level, and context of the study."
   ]
  },
  {
   "cell_type": "code",
   "execution_count": null,
   "id": "d78c5471",
   "metadata": {},
   "outputs": [],
   "source": []
  }
 ],
 "metadata": {
  "kernelspec": {
   "display_name": "Python 3 (ipykernel)",
   "language": "python",
   "name": "python3"
  },
  "language_info": {
   "codemirror_mode": {
    "name": "ipython",
    "version": 3
   },
   "file_extension": ".py",
   "mimetype": "text/x-python",
   "name": "python",
   "nbconvert_exporter": "python",
   "pygments_lexer": "ipython3",
   "version": "3.9.7"
  }
 },
 "nbformat": 4,
 "nbformat_minor": 5
}
